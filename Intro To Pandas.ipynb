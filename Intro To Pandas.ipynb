{
 "cells": [
  {
   "cell_type": "markdown",
   "metadata": {},
   "source": [
    "### Getting Started"
   ]
  },
  {
   "cell_type": "code",
   "execution_count": 1,
   "metadata": {},
   "outputs": [],
   "source": [
    "import pandas as pd # Main library we will be working with today\n",
    "import numpy as np # Helper library\n",
    "\n",
    "#Helps with formatting numbers\n",
    "pd.options.display.float_format = '{:,.0f}'.format\n",
    "\n",
    "#Displays the charts right in the notebook\n",
    "%matplotlib inline"
   ]
  },
  {
   "cell_type": "code",
   "execution_count": 6,
   "metadata": {},
   "outputs": [],
   "source": [
    "# Creating a dataframe manually\n",
    "\n",
    "# pd.DataFrame([1,2,3])\n",
    "# pd.DataFrame([[1,2,3], [4,5,6]])\n",
    "# pd.DataFrame([[1,2,3], [4,5,6]], columns=['col 1', 'col 2', 'col 3'])\n",
    "# pd.DataFrame([[1,2,3], [4,5,6]], columns=['col 1', 'col 2', 'col 3'], index=[60, 100])\n",
    "\n",
    "# Creating a dataframe quickly from a CSV\n",
    "# https://www.kaggle.com/harlfoxem/housesalesprediction\n",
    "df = pd.read_csv(\"kc_house_data.csv\")"
   ]
  },
  {
   "cell_type": "markdown",
   "metadata": {},
   "source": [
    "### Exploring Your Data"
   ]
  },
  {
   "cell_type": "code",
   "execution_count": 12,
   "metadata": {},
   "outputs": [],
   "source": [
    "# df.head(5)\n",
    "# df.columns\n",
    "# df.info()\n",
    "# df.describe()\n",
    "# df[['id', 'price', 'bedrooms']].head(10)"
   ]
  },
  {
   "cell_type": "markdown",
   "metadata": {},
   "source": [
    "### Creating a new column"
   ]
  },
  {
   "cell_type": "code",
   "execution_count": 17,
   "metadata": {},
   "outputs": [],
   "source": [
    "# Create new column with single value\n",
    "# df['greg'] = 1\n",
    "\n",
    "# Create new column based off of another one\n",
    "# df['tester'] = df['price']*2\n",
    "\n",
    "# View a subsection of columns only\n",
    "# df[['greg', 'tester', 'price']].head()\n",
    "\n",
    "# Drop columns. Axis=1 means drop columns, not rows\n",
    "# df.drop(['greg', 'tester'], axis=1, inplace=True)\n",
    "\n",
    "# df.head()"
   ]
  },
  {
   "cell_type": "markdown",
   "metadata": {},
   "source": [
    "### Filtering Your Data"
   ]
  },
  {
   "cell_type": "markdown",
   "metadata": {},
   "source": [
    "#### Method 1 - Beware, can get sloppy"
   ]
  },
  {
   "cell_type": "code",
   "execution_count": 25,
   "metadata": {},
   "outputs": [],
   "source": [
    "# Data frames can be filtered via True/False arrays\n",
    "# pd.DataFrame(['Rick', 'Bob', 'Katie'])\n",
    "# pd.DataFrame(['Rick', 'Bob', 'Katie'])[[True, True, True]]\n",
    "# pd.DataFrame(['Rick', 'Bob', 'Katie'])[[True, False, True]]\n",
    "\n",
    "# df['price']\n",
    "# df['price'] > 600000\n",
    "# df[df['price'] > 600000]\n",
    "# df[(df['price'] > 662500) & (df['bedrooms'] >= 4)]"
   ]
  },
  {
   "cell_type": "markdown",
   "metadata": {},
   "source": [
    "#### Method 2 - Longer, but cleaner"
   ]
  },
  {
   "cell_type": "code",
   "execution_count": 27,
   "metadata": {},
   "outputs": [],
   "source": [
    "# Method 2 - Longer, but cleaner -- Put your conditions in variables\n",
    "# c1 = df['price'] > 662500\n",
    "# c2 = df['bedrooms'] >= 3\n",
    "\n",
    "# df[c1 & c2].head(5)"
   ]
  },
  {
   "cell_type": "markdown",
   "metadata": {},
   "source": [
    "### Group by columns"
   ]
  },
  {
   "cell_type": "code",
   "execution_count": 31,
   "metadata": {},
   "outputs": [],
   "source": [
    "# df['bedrooms'].unique()\n",
    "# df.groupby(['bedrooms'])['price'].mean()\n",
    "# df.groupby(['bedrooms', 'waterfront'])['price'].mean()"
   ]
  },
  {
   "cell_type": "markdown",
   "metadata": {},
   "source": [
    "### Pivot Tables"
   ]
  },
  {
   "cell_type": "code",
   "execution_count": 33,
   "metadata": {},
   "outputs": [],
   "source": [
    "# pd.pivot_table(df, values='price', index=['bedrooms'], columns=['waterfront'], aggfunc=np.mean)"
   ]
  },
  {
   "cell_type": "markdown",
   "metadata": {},
   "source": [
    "### Plotting data"
   ]
  },
  {
   "cell_type": "code",
   "execution_count": 38,
   "metadata": {},
   "outputs": [],
   "source": [
    "# Pandas as some built in plot functionality\n",
    "# df[['price', 'bedrooms']].plot.scatter(y='price', x='bedrooms')\n",
    "\n",
    "# Filtering to a data range\n",
    "# df_bed = df[df['bedrooms'] < 15]\n",
    "# df_bed[['price', 'bedrooms']].plot.scatter(y='price', x='bedrooms')\n",
    "# df_bed[['price', 'bedrooms']].plot.scatter(y='price', x='bedrooms', alpha=.1)\n",
    "\n",
    "# Using a scatter plot to chart lat and long\n",
    "# df.plot.scatter(x='long', y='lat', s=1, figsize=(15,15), alpha=.2)"
   ]
  },
  {
   "cell_type": "markdown",
   "metadata": {},
   "source": [
    "### Bucketing Your Data"
   ]
  },
  {
   "cell_type": "code",
   "execution_count": 48,
   "metadata": {},
   "outputs": [],
   "source": [
    "# df['price']\n",
    "\n",
    "# Pandas making 3 buckets for you\n",
    "# df['price_bin'] = pd.cut(df['price'], bins=10)\n",
    "\n",
    "# Manually telling Pandas which buckets to create\n",
    "# df['price_bin'] = pd.cut(df['price'], bins=[0, 100000, 300000, 500000, 700000, 8000000])\n",
    "\n",
    "# Adding in labels for readability\n",
    "# df['price_bin'] = pd.cut(df['price'], bins=[0, 100000, 300000, 500000, 700000, 8000000],\\\n",
    "#                          labels=['mini', 'small', 'med', 'large', 'XL'])\n",
    "\n",
    "# df[['price', 'price_bin']].head(20)"
   ]
  },
  {
   "cell_type": "markdown",
   "metadata": {},
   "source": [
    "### Iterating over every row in column"
   ]
  },
  {
   "cell_type": "code",
   "execution_count": 1,
   "metadata": {},
   "outputs": [],
   "source": [
    "# df[['id', 'yr_built']].head(10)\n",
    "\n",
    "# Using map to iterate over a series with lambda\n",
    "# df['yr_built'].map(lambda x: (\"This house was built in %s\" % (x))).head(10)\n",
    "\n",
    "# Creating a function that we will iterate over our Series with\n",
    "# def over_under(year_built):\n",
    "#     if year_built >= 1960:\n",
    "#         return \"After or on 1960 on %s\" % (year_built)\n",
    "#     else:\n",
    "#         return \"Before 1960 on %s\" % (year_built)\n",
    "\n",
    "# df['yr_built'].map(lambda x: over_under(x)).head(10)"
   ]
  },
  {
   "cell_type": "markdown",
   "metadata": {},
   "source": [
    "### Where to learn more"
   ]
  },
  {
   "cell_type": "code",
   "execution_count": 53,
   "metadata": {},
   "outputs": [],
   "source": [
    "# Common Excel Tasks Translated To Pandas\n",
    "# https://pbpython.com/excel-pandas-comp.html"
   ]
  }
 ],
 "metadata": {
  "kernelspec": {
   "display_name": "Python 3",
   "language": "python",
   "name": "python3"
  },
  "language_info": {
   "codemirror_mode": {
    "name": "ipython",
    "version": 3
   },
   "file_extension": ".py",
   "mimetype": "text/x-python",
   "name": "python",
   "nbconvert_exporter": "python",
   "pygments_lexer": "ipython3",
   "version": "3.7.3"
  }
 },
 "nbformat": 4,
 "nbformat_minor": 2
}

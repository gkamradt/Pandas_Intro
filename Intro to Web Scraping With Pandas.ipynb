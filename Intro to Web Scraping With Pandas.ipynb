{
 "cells": [
  {
   "cell_type": "code",
   "execution_count": 1,
   "metadata": {},
   "outputs": [],
   "source": [
    "from bs4 import BeautifulSoup as soup # To Parse the html\n",
    "import pandas as pd # To work with the data\n",
    "import requests # To make the webpage request"
   ]
  },
  {
   "cell_type": "code",
   "execution_count": 2,
   "metadata": {},
   "outputs": [],
   "source": [
    "# Grab the URL that you want to scrape\n",
    "dojo_events_url = \"https://www.dojobali.org/events/\"\n",
    "r = requests.get(dojo_events_url)"
   ]
  },
  {
   "cell_type": "code",
   "execution_count": 4,
   "metadata": {},
   "outputs": [],
   "source": [
    "# Check out the raw html as the output of your request that you made\n",
    "# r.content\n",
    "\n",
    "# Add your html to soup\n",
    "page_content = soup(r.content, \"html.parser\")"
   ]
  },
  {
   "cell_type": "code",
   "execution_count": 12,
   "metadata": {},
   "outputs": [],
   "source": [
    "# if want to see what your html looks like prettify-ied\n",
    "# print (page_content.prettify())"
   ]
  },
  {
   "cell_type": "code",
   "execution_count": 13,
   "metadata": {},
   "outputs": [
    {
     "name": "stdout",
     "output_type": "stream",
     "text": [
      "Found 10 events\n"
     ]
    }
   ],
   "source": [
    "# Pull all of the 'articles' with class 'event' out of the html. This was found by looking at the html on the webpage.\n",
    "# Note: This is more of an art than a science to find the name of the thing you want to scrape\n",
    "event_html = page_content.find_all(\"article\", class_=\"event\")\n",
    "\n",
    "#To view one item of what you've pulled\n",
    "# print (event_html[0])\n",
    "\n",
    "# Showing how many events you've found. You can double check this against the webpage to make sure you're aligned.\n",
    "print (\"Found {} events\".format(len(event_html)))"
   ]
  },
  {
   "cell_type": "code",
   "execution_count": 15,
   "metadata": {},
   "outputs": [],
   "source": [
    "# To pretty view a single event\n",
    "# print (event_html[0].prettify())"
   ]
  },
  {
   "cell_type": "code",
   "execution_count": 28,
   "metadata": {},
   "outputs": [],
   "source": [
    "# Get event name, desription, date, and link\n",
    "# Again, this is more of an art than a science and where most of the work will take place.\n",
    "\n",
    "# Example - run each one\n",
    "# print (event_html[0].prettify())\n",
    "# event_html[0].find(\"h3\")\n",
    "# event_html[0].find(\"h3\").find(\"a\")\n",
    "# event_html[0].find(\"h3\").find(\"a\").attrs\n",
    "# event_html[0].find(\"h3\").find(\"a\")['title']\n",
    "\n",
    "# Rest of the data we want\n",
    "# event_html[0].find(\"h3\").find(\"a\")['title']\n",
    "# event_html[0].find(\"h3\").find(\"a\")['href']\n",
    "# event_html[0].find(\"span\", class_=\"date\").find(\"a\").text\n",
    "# event_html[0].find(\"div\", class_=\"description\").find(\"p\").text"
   ]
  },
  {
   "cell_type": "code",
   "execution_count": 30,
   "metadata": {},
   "outputs": [],
   "source": [
    "# Empty list that will hold your 10 events\n",
    "events_data = []\n",
    "\n",
    "# Iterate through your 10 events and pull the data you want out of them\n",
    "for event in event_html:\n",
    "    \n",
    "    title = event.find(\"h3\").find(\"a\")['title']\n",
    "    event_link = event.find(\"h3\").find(\"a\")['href']\n",
    "    date = event.find(\"span\", class_=\"date\").find(\"a\").text\n",
    "    description = event.find(\"div\", class_=\"description\").find(\"p\").text\n",
    "    \n",
    "    # Convert your 4 items in to a list of four items\n",
    "    event_data = [title, event_link, date, description]\n",
    "    \n",
    "    # Add your list of 4 items to your bigger event list\n",
    "    events_data.append(event_data)\n",
    "    \n",
    "#     print (title, event_link, date, description)    \n",
    "#     print (\"\")"
   ]
  },
  {
   "cell_type": "code",
   "execution_count": 34,
   "metadata": {},
   "outputs": [],
   "source": [
    "# events_data\n",
    "\n",
    "# Create DataFrame from your list of 10 events and their data\n",
    "pd.DataFrame(events_data, columns = ['title', 'event_link', 'date', 'description']).to_clipboard()"
   ]
  },
  {
   "cell_type": "code",
   "execution_count": null,
   "metadata": {},
   "outputs": [],
   "source": []
  }
 ],
 "metadata": {
  "kernelspec": {
   "display_name": "Python 3",
   "language": "python",
   "name": "python3"
  },
  "language_info": {
   "codemirror_mode": {
    "name": "ipython",
    "version": 3
   },
   "file_extension": ".py",
   "mimetype": "text/x-python",
   "name": "python",
   "nbconvert_exporter": "python",
   "pygments_lexer": "ipython3",
   "version": "3.7.3"
  }
 },
 "nbformat": 4,
 "nbformat_minor": 2
}
